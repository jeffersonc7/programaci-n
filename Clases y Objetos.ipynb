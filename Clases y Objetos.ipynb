{
 "cells": [
  {
   "cell_type": "markdown",
   "id": "dbce552e",
   "metadata": {},
   "source": [
    "#### __PROGRAMACION ORIENTADA A OBJETOS__"
   ]
  },
  {
   "cell_type": "markdown",
   "id": "b2b88566",
   "metadata": {},
   "source": [
    "##### __DEFINICIONES__\n",
    "\n",
    "Paradigma de programación que organiza el código en torno a **objetos** y **clases**. En Python, este enfoque permite modelar entidades del mundo real mediante atributos (datos) y métodos (funcionalidades).\n",
    "\n",
    "- **Clase**: Es un molde o plantilla que define las propiedades y comportamientos de un objeto.\n",
    "- **Objeto**: Es una instancia de una clase, contiene datos y puede ejecutar métodos definidos en la clase.\n"
   ]
  },
  {
   "cell_type": "code",
   "execution_count": 52,
   "id": "8aff9f96",
   "metadata": {},
   "outputs": [
    {
     "name": "stdout",
     "output_type": "stream",
     "text": [
      "esta es una clase : <class '__main__.computadores'>\n",
      "esta es un objeto : <__main__.computadores object at 0x00000238DD3178C0>\n",
      "esta es un atributo : SamSung\n"
     ]
    }
   ],
   "source": [
    "# clase\n",
    "class computadores() :\n",
    "    #atributos estaticos (objetos de la clase) \n",
    "    marca = 'SamSung' \n",
    "    modelo = 'X20'\n",
    "    color = 'Preto'\n",
    "\n",
    "print (f\"esta es una clase : {computadores}\")\n",
    "\n",
    "# objeto\n",
    "computador2 = computadores()\n",
    "\n",
    "print (f\"esta es un objeto : {computador2}\")\n",
    "print (f\"esta es un atributo : {computador2.marca}\")"
   ]
  },
  {
   "cell_type": "markdown",
   "id": "b9fb6e79",
   "metadata": {},
   "source": [
    "- **Atributos**: Son las variables que almacenan el estado o las características de un objeto.\n"
   ]
  },
  {
   "cell_type": "code",
   "execution_count": 53,
   "id": "4bb9eb60",
   "metadata": {},
   "outputs": [
    {
     "name": "stdout",
     "output_type": "stream",
     "text": [
      "ropa 1 : pantalon \n",
      "ropa 2 : medias\n"
     ]
    }
   ],
   "source": [
    "class ropa:\n",
    "    # metodo constructor (inicializa los atributos de la clase)\n",
    "    def __init__(self, tipo, color, marca, talla):\n",
    "    #self = atributo para referirse al metodo \n",
    "        self.tipo = tipo\n",
    "        self.color = color \n",
    "        self.marca = marca \n",
    "        self.talla = talla \n",
    "\n",
    "# agregar valor a los atributos de la clase \n",
    "ropa1 = ropa(\"saco\", \"azul\", \"nike\", \"L\")\n",
    "ropa2 = ropa(\"medias\", \"blanco\", \"puma\", \"S\")\n",
    "\n",
    "# edicion de atributos desde el objeto (no se puede cambiar el nombre de la clase)\n",
    "ropa1.tipo = \"pantalon\"\n",
    "print (f\"ropa 1 : {ropa1.tipo} \\nropa 2 : {ropa2.tipo}\")\n"
   ]
  },
  {
   "cell_type": "markdown",
   "id": "2953390d",
   "metadata": {},
   "source": [
    "- **Módulo**: Archivo incluye código y es importable a otros archivos para reutilizarlo \n",
    "- **Instancia**: Objeto concreto creado a partir de una clase\n",
    "\n",
    "- **Métodos**: Son funciones definidas dentro de una clase que describen los comportamientos de un objeto.\n",
    "\n",
    "  - metodo constructor : inicializar los atributos cuando se crea un nuevo objeto (almacena valores)\n",
    "  - metodo Instancia : operan sobre la instancia especifica de la clase (tiene por lo menos el parametro self)\n"
   ]
  },
  {
   "cell_type": "code",
   "execution_count": 54,
   "id": "5ac715f8",
   "metadata": {},
   "outputs": [
    {
     "name": "stdout",
     "output_type": "stream",
     "text": [
      "Modelo1 : X20\n",
      "X20 encendido \n",
      "\n",
      "Modelo2 : hp\n",
      "hp apagado\n"
     ]
    }
   ],
   "source": [
    "class computadores : \n",
    "    # metodo especial (constructor)\n",
    "    def __init__(self, marca, modelo) :\n",
    "        self.marca = marca \n",
    "        self.modelo = modelo\n",
    "\n",
    "    # metodo de la clase (metodo de instancia)\n",
    "    def encender(self):\n",
    "        print (f\"{self.modelo} encendido \")\n",
    "    \n",
    "    def apagar(self): \n",
    "        print (f\"{self.marca} apagado\")\n",
    "\n",
    "computador1 = computadores (\"acer\", \"X20\")\n",
    "computador2 = computadores (\"hp\", \"X30\")\n",
    "# computador1.encender()\n",
    "\n",
    "print(f\"Modelo1 : {computador1.modelo}\")\n",
    "# los metodos llamar fuera de la funcion print \n",
    "computador1.encender()\n",
    "\n",
    "print(f\"\\nModelo2 : {computador2.marca}\")\n",
    "computador2.apagar()\n"
   ]
  },
  {
   "cell_type": "markdown",
   "id": "576c8bbd",
   "metadata": {},
   "source": [
    "#### __EJERCICIO__"
   ]
  },
  {
   "cell_type": "markdown",
   "id": "89ce7c22",
   "metadata": {},
   "source": [
    "crear una clase estudiate con los atributos nombre, edad, curso y nota.\n",
    "\n",
    "agregar un metodo que se llame estudiar y que imprima \"el estudiante {nombre} esta estudiando\"\n",
    "\n",
    "crear un objeto estudiante y usar el metodo estudiar.\n",
    "\n",
    "se debe interactual con el usuario y este debe brindar los atributos \n",
    "al escribir estudiar utilizar el metodo estudiar y mostrar el mensaje"
   ]
  },
  {
   "cell_type": "code",
   "execution_count": 50,
   "id": "fd9de6af",
   "metadata": {},
   "outputs": [
    {
     "name": "stdout",
     "output_type": "stream",
     "text": [
      "\n",
      "DATOS DEL ESTUDIANTE:\n",
      "    NOMBRE: jas\n",
      "    EDAD :  12\n",
      "    PARALELO : 12\n",
      "    ESTADO :\n",
      "   \n",
      "el estudiante no está estudiando\n",
      "     None\n"
     ]
    }
   ],
   "source": [
    "# creacion de una clase estudiantes \n",
    "class estudiante:\n",
    "    def __init__(self,nombre,edad,paralelo):\n",
    "        self.nombre = nombre\n",
    "        self.edad = edad \n",
    "        self.paraleleo = paralelo \n",
    "        \n",
    "    def estudiar():\n",
    "        print (\"1... 2.... 3.... estudiando....\")\n",
    "     \n",
    "    def noestudiar():\n",
    "        print(\"el estudiante no está estudiando\")\n",
    "\n",
    "# literal 1\n",
    "pepe = estudiante(\"pepe\",12,1)\n",
    "\n",
    "# literal 2\n",
    "nombre = input(\"ingrese el nombre : \")\n",
    "edad = input(\"ingrese la edad : \")\n",
    "paralelo = input(\"ingrese el paralelo : \")\n",
    "\n",
    "estudiante1 = estudiante (nombre,edad,paralelo)\n",
    "\n",
    "print(f\"\"\"\n",
    "DATOS DEL ESTUDIANTE:\n",
    "    NOMBRE: {estudiante1.nombre}\n",
    "    EDAD :  {estudiante1.edad}\n",
    "    PARALELO : {estudiante1.paraleleo}\n",
    "    ESTADO :\n",
    "   \"\"\")\n",
    "\n",
    "while True: \n",
    "    study = input(\"¿Desea estudiar? : SI / NO\")\n",
    "    if study.upper() == \"SI\":\n",
    "        print(estudiante.estudiar())\n",
    "        break\n",
    "    elif study.upper() == \"NO\":\n",
    "        print (f\"{\" \"*5}{estudiante.noestudiar()}\")\n",
    "        break"
   ]
  },
  {
   "cell_type": "code",
   "execution_count": 1,
   "id": "094185b7",
   "metadata": {},
   "outputs": [
    {
     "name": "stdout",
     "output_type": "stream",
     "text": [
      "hola como estás, este es mi primer commit en github\n"
     ]
    }
   ],
   "source": [
    "print (\"hola como estás, este es mi primer commit en github\")"
   ]
  }
 ],
 "metadata": {
  "kernelspec": {
   "display_name": "Python 3",
   "language": "python",
   "name": "python3"
  },
  "language_info": {
   "codemirror_mode": {
    "name": "ipython",
    "version": 3
   },
   "file_extension": ".py",
   "mimetype": "text/x-python",
   "name": "python",
   "nbconvert_exporter": "python",
   "pygments_lexer": "ipython3",
   "version": "3.12.5"
  }
 },
 "nbformat": 4,
 "nbformat_minor": 5
}
